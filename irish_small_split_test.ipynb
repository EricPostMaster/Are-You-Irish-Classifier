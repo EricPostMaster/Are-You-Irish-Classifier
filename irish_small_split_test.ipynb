{
 "cells": [
  {
   "cell_type": "code",
   "execution_count": null,
   "metadata": {},
   "outputs": [],
   "source": [
    "# pip install chardet\n",
    "# !pip install pandas"
   ]
  },
  {
   "cell_type": "code",
   "execution_count": 1,
   "metadata": {},
   "outputs": [],
   "source": [
    "import pandas as pd\n",
    "\n",
    "import re\n",
    "import sys\n",
    "\n",
    "from sklearn.model_selection import train_test_split, StratifiedKFold\n",
    "from sklearn.pipeline import make_pipeline, Pipeline\n",
    "from sklearn.model_selection import GridSearchCV\n",
    "from sklearn.feature_extraction.text import CountVectorizer, TfidfVectorizer\n",
    "from sklearn.neighbors import KNeighborsClassifier\n",
    "from sklearn.naive_bayes import MultinomialNB, ComplementNB\n",
    "from sklearn.ensemble import RandomForestClassifier\n",
    "\n",
    "from sklearn.metrics import confusion_matrix\n",
    "from sklearn.metrics import f1_score\n",
    "from sklearn.metrics import fbeta_score, make_scorer\n",
    "from sklearn.metrics import classification_report\n",
    "from sklearn.metrics import roc_curve\n",
    "from sklearn.metrics import accuracy_score\n",
    "\n",
    "import seaborn as sns\n",
    "from matplotlib import pyplot as plt\n",
    "import numpy as np\n",
    "\n",
    "import pickle\n",
    "# from ngram_config import ngram_creator\n",
    "\n",
    "import chardet"
   ]
  },
  {
   "cell_type": "code",
   "execution_count": 2,
   "metadata": {},
   "outputs": [],
   "source": [
    "df = pd.read_csv('irish_names_split.csv') #, encoding='ascii', errors='replace')\n",
    "# Note: The encoding is not removing spaces, apostrophes, or accents on characters\n",
    "# I manually removed them for now. #TechDebt"
   ]
  },
  {
   "cell_type": "code",
   "execution_count": 3,
   "metadata": {},
   "outputs": [],
   "source": [
    "df.dropna(axis=0,subset=['surname_plain'], inplace=True)"
   ]
  },
  {
   "cell_type": "code",
   "execution_count": 4,
   "metadata": {},
   "outputs": [
    {
     "data": {
      "text/html": [
       "<div>\n",
       "<style scoped>\n",
       "    .dataframe tbody tr th:only-of-type {\n",
       "        vertical-align: middle;\n",
       "    }\n",
       "\n",
       "    .dataframe tbody tr th {\n",
       "        vertical-align: top;\n",
       "    }\n",
       "\n",
       "    .dataframe thead th {\n",
       "        text-align: right;\n",
       "    }\n",
       "</style>\n",
       "<table border=\"1\" class=\"dataframe\">\n",
       "  <thead>\n",
       "    <tr style=\"text-align: right;\">\n",
       "      <th></th>\n",
       "      <th>full_name</th>\n",
       "      <th>given_name</th>\n",
       "      <th>surname</th>\n",
       "      <th>full_name_plain</th>\n",
       "      <th>given_name_plain</th>\n",
       "      <th>surname_plain</th>\n",
       "      <th>irish_flag</th>\n",
       "    </tr>\n",
       "  </thead>\n",
       "  <tbody>\n",
       "    <tr>\n",
       "      <th>0</th>\n",
       "      <td>Maria Bailey</td>\n",
       "      <td>Maria</td>\n",
       "      <td>Bailey</td>\n",
       "      <td>MariaBailey</td>\n",
       "      <td>Maria</td>\n",
       "      <td>Bailey</td>\n",
       "      <td>1</td>\n",
       "    </tr>\n",
       "    <tr>\n",
       "      <th>1</th>\n",
       "      <td>Pat Breen</td>\n",
       "      <td>Pat</td>\n",
       "      <td>Breen</td>\n",
       "      <td>PatBreen</td>\n",
       "      <td>Pat</td>\n",
       "      <td>Breen</td>\n",
       "      <td>1</td>\n",
       "    </tr>\n",
       "    <tr>\n",
       "      <th>2</th>\n",
       "      <td>Colm Brophy</td>\n",
       "      <td>Colm</td>\n",
       "      <td>Brophy</td>\n",
       "      <td>ColmBrophy</td>\n",
       "      <td>Colm</td>\n",
       "      <td>Brophy</td>\n",
       "      <td>1</td>\n",
       "    </tr>\n",
       "    <tr>\n",
       "      <th>3</th>\n",
       "      <td>Richard Bruton</td>\n",
       "      <td>Richard</td>\n",
       "      <td>Bruton</td>\n",
       "      <td>RichardBruton</td>\n",
       "      <td>Richard</td>\n",
       "      <td>Bruton</td>\n",
       "      <td>1</td>\n",
       "    </tr>\n",
       "    <tr>\n",
       "      <th>4</th>\n",
       "      <td>Peter Burke</td>\n",
       "      <td>Peter</td>\n",
       "      <td>Burke</td>\n",
       "      <td>PeterBurke</td>\n",
       "      <td>Peter</td>\n",
       "      <td>Burke</td>\n",
       "      <td>1</td>\n",
       "    </tr>\n",
       "  </tbody>\n",
       "</table>\n",
       "</div>"
      ],
      "text/plain": [
       "        full_name given_name surname full_name_plain given_name_plain  \\\n",
       "0    Maria Bailey      Maria  Bailey     MariaBailey            Maria   \n",
       "1       Pat Breen        Pat   Breen        PatBreen              Pat   \n",
       "2     Colm Brophy       Colm  Brophy      ColmBrophy             Colm   \n",
       "3  Richard Bruton    Richard  Bruton   RichardBruton          Richard   \n",
       "4     Peter Burke      Peter   Burke      PeterBurke            Peter   \n",
       "\n",
       "  surname_plain  irish_flag  \n",
       "0        Bailey           1  \n",
       "1         Breen           1  \n",
       "2        Brophy           1  \n",
       "3        Bruton           1  \n",
       "4         Burke           1  "
      ]
     },
     "execution_count": 4,
     "metadata": {},
     "output_type": "execute_result"
    }
   ],
   "source": [
    "df.head()"
   ]
  },
  {
   "cell_type": "code",
   "execution_count": 6,
   "metadata": {},
   "outputs": [
    {
     "name": "stdout",
     "output_type": "stream",
     "text": [
      "Fitting 3 folds for each of 30 candidates, totalling 90 fits\n",
      "Best model parameters: {'clf__alpha': 1, 'vec__analyzer': 'char_wb', 'vec__ngram_range': (4, 4)}\n",
      "\n",
      "Best training F2 score: 0.4575445881293246\n",
      "\n",
      "F2 score on test data: 0.5737704918032787\n",
      "\n",
      "Classification Report\n",
      "              precision    recall  f1-score   support\n",
      "\n",
      "           0       0.93      0.84      0.88        62\n",
      "           1       0.41      0.64      0.50        11\n",
      "\n",
      "    accuracy                           0.81        73\n",
      "   macro avg       0.67      0.74      0.69        73\n",
      "weighted avg       0.85      0.81      0.82        73\n",
      "\n"
     ]
    }
   ],
   "source": [
    "# document = ['Murphy', 'MacGuiness', 'Bailey', 'Sims', 'Knickerbocker']\n",
    "\n",
    "X_train, X_test, y_train, y_test = train_test_split(\n",
    "    df['surname_plain'], df['irish_flag'], test_size=0.05, random_state=42, stratify=df['irish_flag'])\n",
    "\n",
    "pipe = Pipeline([('vec', CountVectorizer())\n",
    "                ,('clf', ComplementNB())\n",
    "                # ,('rf', RandomForestClassifier())\n",
    "                # ,('knn', KNeighborsClassifier())\n",
    "                ])\n",
    "param_grid = [{'vec__ngram_range':[(3,3),(4,4),(5,5)]\n",
    "              ,'vec__analyzer':['char','char_wb']\n",
    "              ,'clf__alpha':[0.01, 0.1, 0.5, 1, 10]\n",
    "              # ,'knn__n_neighbors':[1,2,3,4,5]\n",
    "              # ,'knn__weights':['uniform','distance']\n",
    "              }]\n",
    "f2_scorer = make_scorer(fbeta_score, beta=2)\n",
    "\n",
    "\n",
    "gs = GridSearchCV(pipe\n",
    "                  ,param_grid=param_grid\n",
    "                  ,cv=3\n",
    "                  ,verbose=1\n",
    "                  ,scoring=f2_scorer)\n",
    "gs.fit(X_train,y_train)\n",
    "\n",
    "print(f\"Best model parameters: {gs.best_params_}\")\n",
    "final_model_params = gs.best_params_\n",
    "print()\n",
    "print(f\"Best training F2 score: {gs.best_score_}\")\n",
    "print()\n",
    "# print(gs.cv_results_['mean_test_score'],'\\n',gs.cv_results_['std_test_score'])\n",
    "\n",
    "df_pred = pd.DataFrame(zip(X_test,y_test,gs.predict_proba(X_test),gs.predict(X_test), gs.predict_log_proba(X_test)))\n",
    "\n",
    "print(f\"F2 score on test data: {gs.score(X_test, y_test)}\")\n",
    "print()\n",
    "print(\"Classification Report\")\n",
    "print(classification_report(y_test, gs.predict(X_test)))\n",
    "\n"
   ]
  },
  {
   "cell_type": "code",
   "execution_count": null,
   "metadata": {},
   "outputs": [],
   "source": []
  },
  {
   "cell_type": "code",
   "execution_count": 98,
   "metadata": {},
   "outputs": [],
   "source": [
    "final_pipe = Pipeline([('vec', CountVectorizer(analyzer='char_wb', ngram_range=(4,4)))\n",
    "                      ,('clf', ComplementNB(alpha=1))\n",
    "                      ])"
   ]
  },
  {
   "cell_type": "code",
   "execution_count": 99,
   "metadata": {},
   "outputs": [],
   "source": [
    "final_model = final_pipe.fit(df['surname_plain'], df['irish_flag'])"
   ]
  },
  {
   "cell_type": "code",
   "execution_count": 148,
   "metadata": {},
   "outputs": [
    {
     "name": "stdout",
     "output_type": "stream",
     "text": [
      "  (0, 34)\t1\n",
      "  (0, 1073)\t1\n",
      "  (0, 745)\t1\n",
      "  (0, 2303)\t1\n",
      "  (0, 2631)\t1\n",
      "  (1, 67)\t1\n",
      "  (1, 1168)\t1\n",
      "  (1, 3665)\t1\n",
      "  (1, 1599)\t1\n"
     ]
    }
   ],
   "source": [
    "print(final_model['vec'].fit_transform(df['surname_plain'], df['irish_flag'])[0:2])"
   ]
  },
  {
   "cell_type": "code",
   "execution_count": 168,
   "metadata": {},
   "outputs": [
    {
     "data": {
      "text/plain": [
       "-1.9056091949823255"
      ]
     },
     "execution_count": 168,
     "metadata": {},
     "output_type": "execute_result"
    }
   ],
   "source": [
    "# This is the correct prior probability of an Irish name\n",
    "final_model['clf'].class_log_prior_[1]"
   ]
  },
  {
   "cell_type": "code",
   "execution_count": 110,
   "metadata": {},
   "outputs": [
    {
     "data": {
      "text/plain": [
       "array([-8.68287711, -8.68287711, -8.68287711, ..., -8.68287711,\n",
       "       -8.68287711, -8.68287711])"
      ]
     },
     "execution_count": 110,
     "metadata": {},
     "output_type": "execute_result"
    }
   ],
   "source": [
    "# These are the correct feature log probabilities of a feature in the Irish name class\n",
    "final_model['clf'].feature_log_prob_[0]*-1"
   ]
  },
  {
   "cell_type": "code",
   "execution_count": 113,
   "metadata": {},
   "outputs": [],
   "source": [
    "def get_salient_words(nb_clf, vect, class_ind):\n",
    "    \"\"\"Return salient words for given class\n",
    "    Parameters\n",
    "    ----------\n",
    "    nb_clf : a Naive Bayes classifier (e.g. MultinomialNB, BernoulliNB)\n",
    "    vect : CountVectorizer\n",
    "    class_ind : int\n",
    "    Returns\n",
    "    -------\n",
    "    list\n",
    "        a sorted list of (word, log prob) sorted by log probability in descending order.\n",
    "\n",
    "    Note: Feature log probabilities for Class 1 are obtained by calling all the feature log probabilities for Class 0 and  multiplying them by -1\n",
    "    \"\"\"\n",
    "\n",
    "    words = vect.get_feature_names()\n",
    "    zipped = list(zip(words, nb_clf.feature_log_prob_[class_ind]*-1))\n",
    "    sorted_zip = sorted(zipped, key=lambda t: t[1], reverse=True)\n",
    "\n",
    "    return sorted_zip\n",
    "\n",
    "pos_all = get_salient_words(final_model['clf'], final_model['vec'], 0)"
   ]
  },
  {
   "cell_type": "code",
   "execution_count": 139,
   "metadata": {},
   "outputs": [
    {
     "data": {
      "text/plain": [
       "[(' mur', -6.48565252972095),\n",
       " ('han ', -6.603435565377333),\n",
       " ('murp', -6.603435565377333),\n",
       " ('phy ', -6.603435565377333),\n",
       " ('rphy', -6.603435565377333),\n",
       " ('urph', -6.603435565377333),\n",
       " ('lly ', -6.736966958001855),\n",
       " ('rke ', -6.736966958001855),\n",
       " ('van ', -6.736966958001855),\n",
       " ('conn', -6.8911176378291135),\n",
       " ('ell ', -6.8911176378291135),\n",
       " ('ivan', -6.8911176378291135),\n",
       " ('ley ', -6.8911176378291135),\n",
       " ('liva', -6.8911176378291135),\n",
       " ('ulli', -6.8911176378291135),\n",
       " (' bro', -7.073439194623068),\n",
       " (' mcg', -7.073439194623068),\n",
       " (' obr', -7.073439194623068),\n",
       " (' oca', -7.073439194623068),\n",
       " (' odo', -7.073439194623068),\n",
       " (' osu', -7.073439194623068),\n",
       " ('alla', -7.073439194623068),\n",
       " ('aly ', -7.073439194623068),\n",
       " ('arre', -7.073439194623068),\n",
       " ('gan ', -7.073439194623068)]"
      ]
     },
     "execution_count": 139,
     "metadata": {},
     "output_type": "execute_result"
    }
   ],
   "source": [
    "# pos_all[0:25]\n",
    "\n",
    "# Murphy score is -39.48"
   ]
  },
  {
   "cell_type": "code",
   "execution_count": 149,
   "metadata": {},
   "outputs": [],
   "source": [
    "# print(neg_salient_top_20)\n",
    "df_features = pd.DataFrame(pos_all, columns=['ngram','log_prob'])"
   ]
  },
  {
   "cell_type": "code",
   "execution_count": 157,
   "metadata": {},
   "outputs": [
    {
     "data": {
      "text/plain": [
       "-8.682877    3697\n",
       "-7.989730     693\n",
       "-7.584265     122\n",
       "-7.296583      54\n",
       "-7.073439      26\n",
       "-6.891118       6\n",
       "-6.603436       5\n",
       "-6.736967       3\n",
       "-6.485653       1\n",
       "Name: log_prob, dtype: int64"
      ]
     },
     "execution_count": 157,
     "metadata": {},
     "output_type": "execute_result"
    }
   ],
   "source": [
    "df_features['log_prob'].value_counts()\n",
    "# 910 log_prob values that aren't the last category\n",
    "# 3697 values that are the last category\n",
    "# 4607 total"
   ]
  },
  {
   "cell_type": "code",
   "execution_count": 166,
   "metadata": {},
   "outputs": [
    {
     "name": "stdout",
     "output_type": "stream",
     "text": [
      "Murphy\n",
      "[[' mur' -6.48565252972095]]\n",
      "[['murp' -6.603435565377333]]\n",
      "[['urph' -6.603435565377333]]\n",
      "[['rphy' -6.603435565377333]]\n",
      "[['phy ' -6.603435565377333]]\n",
      "Ravichandran\n",
      "[]\n",
      "[]\n",
      "[]\n",
      "[]\n",
      "[['icha' -8.682877107057168]]\n",
      "[['chan' -8.682877107057168]]\n",
      "[['hand' -8.682877107057168]]\n",
      "[['andr' -7.9897299264972235]]\n",
      "[['ndra' -8.682877107057168]]\n",
      "[]\n",
      "[['ran ' -7.584264818389059]]\n"
     ]
    }
   ],
   "source": [
    "df_features.head(10)\n",
    "print('Murphy')\n",
    "print(df_features[df_features['ngram']==' mur'].values)\n",
    "print(df_features[df_features['ngram']=='murp'].values)\n",
    "print(df_features[df_features['ngram']=='urph'].values)\n",
    "print(df_features[df_features['ngram']=='rphy'].values)\n",
    "print(df_features[df_features['ngram']=='phy '].values)\n",
    "# Murphy prob = 0.000000000000005 (that's 14 zeros)\n",
    "# 5.0e-15\n",
    "# Murphy index ~6.58\n",
    "\n",
    "# print('Bailey')\n",
    "# print(df_features[df_features['ngram']==' bai'].values)\n",
    "# print(df_features[df_features['ngram']=='bail'].values)\n",
    "# print(df_features[df_features['ngram']=='aile'].values)\n",
    "# print(df_features[df_features['ngram']=='iley'].values)\n",
    "# print(df_features[df_features['ngram']=='ley '].values)\n",
    "# Bailey prob = 0.000000000000000014 (that's 16 zeros)\n",
    "# 1.4e-17\n",
    "# Bailey 7.762\n",
    "# Murphy index = 6.58/7.762 = .8477\n",
    "\n",
    "# print('Burkson')\n",
    "# print(df_features[df_features['ngram']==' bur'].values)\n",
    "# print(df_features[df_features['ngram']=='burk'].values)\n",
    "# print(df_features[df_features['ngram']=='urks'].values)\n",
    "# print(df_features[df_features['ngram']=='rkso'].values)\n",
    "# print(df_features[df_features['ngram']=='kson'].values)\n",
    "# print(df_features[df_features['ngram']=='son '].values)\n",
    "# Burkson 8.18\n",
    "# Murphy index = 6.58/8.18 = .8044\n",
    "\n",
    "# print('Sims')\n",
    "# print(df_features[df_features['ngram']==' sim'].values)\n",
    "# print(df_features[df_features['ngram']=='sims'].values)\n",
    "# print(df_features[df_features['ngram']=='ims '].values)\n",
    "# Sims 8.68\n",
    "# Murphy index = 6.58/8.68 = .7581\n",
    "\n",
    "print('Ravichandran')\n",
    "print(df_features[df_features['ngram']==' rav'].values)\n",
    "print(df_features[df_features['ngram']=='ravi'].values)\n",
    "print(df_features[df_features['ngram']=='avic'].values)\n",
    "print(df_features[df_features['ngram']=='vich'].values)\n",
    "print(df_features[df_features['ngram']=='icha'].values)\n",
    "print(df_features[df_features['ngram']=='chan'].values)\n",
    "print(df_features[df_features['ngram']=='hand'].values)\n",
    "print(df_features[df_features['ngram']=='andr'].values)\n",
    "print(df_features[df_features['ngram']=='ndra'].values)\n",
    "print(df_features[df_features['ngram']=='dran'].values)\n",
    "print(df_features[df_features['ngram']=='ran '].values)\n",
    "# Ravichandran 8.38\n",
    "# Murphy index = 6.58/8.38 = .7852\n",
    "\n",
    "\n",
    "# print('Platzfelder')\n",
    "# print(df_features[df_features['ngram']==' pla'].values)\n",
    "# print(df_features[df_features['ngram']=='plat'].values)\n",
    "# print(df_features[df_features['ngram']=='latz'].values)\n",
    "# print(df_features[df_features['ngram']=='atzf'].values)\n",
    "# print(df_features[df_features['ngram']=='tzfe'].values)\n",
    "# print(df_features[df_features['ngram']=='zfel'].values)\n",
    "# print(df_features[df_features['ngram']=='feld'].values)\n",
    "# print(df_features[df_features['ngram']=='elde'].values)\n",
    "# print(df_features[df_features['ngram']=='lder'].values)\n",
    "# print(df_features[df_features['ngram']=='der '].values)\n",
    "\n",
    "# print('Timothy')\n",
    "# print(df_features[df_features['ngram']==' tim'].values)\n",
    "# print(df_features[df_features['ngram']=='timo'].values)\n",
    "# print(df_features[df_features['ngram']=='imot'].values)\n",
    "# print(df_features[df_features['ngram']=='moth'].values)\n",
    "# print(df_features[df_features['ngram']=='othy'].values)\n",
    "# print(df_features[df_features['ngram']=='thy '].values)\n",
    "# Timothy 8.33\n",
    "# Murphy index 6.58/8.33 = .7899\n",
    "\n",
    "# Murphy index could be Avg log probability of a name divided by the avg log probability of the name Murphy\n"
   ]
  },
  {
   "cell_type": "code",
   "execution_count": 84,
   "metadata": {},
   "outputs": [
    {
     "data": {
      "text/html": [
       "<div>\n",
       "<style scoped>\n",
       "    .dataframe tbody tr th:only-of-type {\n",
       "        vertical-align: middle;\n",
       "    }\n",
       "\n",
       "    .dataframe tbody tr th {\n",
       "        vertical-align: top;\n",
       "    }\n",
       "\n",
       "    .dataframe thead th {\n",
       "        text-align: right;\n",
       "    }\n",
       "</style>\n",
       "<table border=\"1\" class=\"dataframe\">\n",
       "  <thead>\n",
       "    <tr style=\"text-align: right;\">\n",
       "      <th></th>\n",
       "      <th>ngram</th>\n",
       "      <th>log_prob</th>\n",
       "    </tr>\n",
       "  </thead>\n",
       "  <tbody>\n",
       "    <tr>\n",
       "      <th>4606</th>\n",
       "      <td>mur</td>\n",
       "      <td>6.485653</td>\n",
       "    </tr>\n",
       "  </tbody>\n",
       "</table>\n",
       "</div>"
      ],
      "text/plain": [
       "     ngram  log_prob\n",
       "4606   mur  6.485653"
      ]
     },
     "execution_count": 84,
     "metadata": {},
     "output_type": "execute_result"
    }
   ],
   "source": [
    "df_features[df_features['ngram']==' mur']"
   ]
  },
  {
   "cell_type": "code",
   "execution_count": 85,
   "metadata": {},
   "outputs": [
    {
     "data": {
      "text/html": [
       "<div>\n",
       "<style scoped>\n",
       "    .dataframe tbody tr th:only-of-type {\n",
       "        vertical-align: middle;\n",
       "    }\n",
       "\n",
       "    .dataframe tbody tr th {\n",
       "        vertical-align: top;\n",
       "    }\n",
       "\n",
       "    .dataframe thead th {\n",
       "        text-align: right;\n",
       "    }\n",
       "</style>\n",
       "<table border=\"1\" class=\"dataframe\">\n",
       "  <thead>\n",
       "    <tr style=\"text-align: right;\">\n",
       "      <th></th>\n",
       "      <th>ngram</th>\n",
       "      <th>log_prob</th>\n",
       "    </tr>\n",
       "  </thead>\n",
       "  <tbody>\n",
       "    <tr>\n",
       "      <th>4525</th>\n",
       "      <td>augh</td>\n",
       "      <td>7.296583</td>\n",
       "    </tr>\n",
       "    <tr>\n",
       "      <th>4526</th>\n",
       "      <td>barr</td>\n",
       "      <td>7.296583</td>\n",
       "    </tr>\n",
       "    <tr>\n",
       "      <th>4527</th>\n",
       "      <td>brie</td>\n",
       "      <td>7.296583</td>\n",
       "    </tr>\n",
       "    <tr>\n",
       "      <th>4528</th>\n",
       "      <td>call</td>\n",
       "      <td>7.296583</td>\n",
       "    </tr>\n",
       "    <tr>\n",
       "      <th>4529</th>\n",
       "      <td>cgra</td>\n",
       "      <td>7.296583</td>\n",
       "    </tr>\n",
       "    <tr>\n",
       "      <th>4530</th>\n",
       "      <td>coll</td>\n",
       "      <td>7.296583</td>\n",
       "    </tr>\n",
       "    <tr>\n",
       "      <th>4531</th>\n",
       "      <td>daly</td>\n",
       "      <td>7.296583</td>\n",
       "    </tr>\n",
       "    <tr>\n",
       "      <th>4532</th>\n",
       "      <td>donn</td>\n",
       "      <td>7.296583</td>\n",
       "    </tr>\n",
       "    <tr>\n",
       "      <th>4533</th>\n",
       "      <td>dono</td>\n",
       "      <td>7.296583</td>\n",
       "    </tr>\n",
       "    <tr>\n",
       "      <th>4534</th>\n",
       "      <td>ealy</td>\n",
       "      <td>7.296583</td>\n",
       "    </tr>\n",
       "    <tr>\n",
       "      <th>4535</th>\n",
       "      <td>elly</td>\n",
       "      <td>7.296583</td>\n",
       "    </tr>\n",
       "    <tr>\n",
       "      <th>4536</th>\n",
       "      <td>enny</td>\n",
       "      <td>7.296583</td>\n",
       "    </tr>\n",
       "    <tr>\n",
       "      <th>4537</th>\n",
       "      <td>erty</td>\n",
       "      <td>7.296583</td>\n",
       "    </tr>\n",
       "    <tr>\n",
       "      <th>4538</th>\n",
       "      <td>fitz</td>\n",
       "      <td>7.296583</td>\n",
       "    </tr>\n",
       "    <tr>\n",
       "      <th>4539</th>\n",
       "      <td>grat</td>\n",
       "      <td>7.296583</td>\n",
       "    </tr>\n",
       "    <tr>\n",
       "      <th>4540</th>\n",
       "      <td>heal</td>\n",
       "      <td>7.296583</td>\n",
       "    </tr>\n",
       "    <tr>\n",
       "      <th>4541</th>\n",
       "      <td>hert</td>\n",
       "      <td>7.296583</td>\n",
       "    </tr>\n",
       "    <tr>\n",
       "      <th>4542</th>\n",
       "      <td>ien</td>\n",
       "      <td>7.296583</td>\n",
       "    </tr>\n",
       "    <tr>\n",
       "      <th>4543</th>\n",
       "      <td>igan</td>\n",
       "      <td>7.296583</td>\n",
       "    </tr>\n",
       "    <tr>\n",
       "      <th>4544</th>\n",
       "      <td>ing</td>\n",
       "      <td>7.296583</td>\n",
       "    </tr>\n",
       "    <tr>\n",
       "      <th>4545</th>\n",
       "      <td>ith</td>\n",
       "      <td>7.296583</td>\n",
       "    </tr>\n",
       "    <tr>\n",
       "      <th>4546</th>\n",
       "      <td>lagh</td>\n",
       "      <td>7.296583</td>\n",
       "    </tr>\n",
       "    <tr>\n",
       "      <th>4547</th>\n",
       "      <td>lins</td>\n",
       "      <td>7.296583</td>\n",
       "    </tr>\n",
       "    <tr>\n",
       "      <th>4548</th>\n",
       "      <td>llag</td>\n",
       "      <td>7.296583</td>\n",
       "    </tr>\n",
       "    <tr>\n",
       "      <th>4549</th>\n",
       "      <td>mcgr</td>\n",
       "      <td>7.296583</td>\n",
       "    </tr>\n",
       "  </tbody>\n",
       "</table>\n",
       "</div>"
      ],
      "text/plain": [
       "     ngram  log_prob\n",
       "4525  augh  7.296583\n",
       "4526  barr  7.296583\n",
       "4527  brie  7.296583\n",
       "4528  call  7.296583\n",
       "4529  cgra  7.296583\n",
       "4530  coll  7.296583\n",
       "4531  daly  7.296583\n",
       "4532  donn  7.296583\n",
       "4533  dono  7.296583\n",
       "4534  ealy  7.296583\n",
       "4535  elly  7.296583\n",
       "4536  enny  7.296583\n",
       "4537  erty  7.296583\n",
       "4538  fitz  7.296583\n",
       "4539  grat  7.296583\n",
       "4540  heal  7.296583\n",
       "4541  hert  7.296583\n",
       "4542  ien   7.296583\n",
       "4543  igan  7.296583\n",
       "4544  ing   7.296583\n",
       "4545  ith   7.296583\n",
       "4546  lagh  7.296583\n",
       "4547  lins  7.296583\n",
       "4548  llag  7.296583\n",
       "4549  mcgr  7.296583"
      ]
     },
     "execution_count": 85,
     "metadata": {},
     "output_type": "execute_result"
    }
   ],
   "source": [
    "df_features[4525:4550]"
   ]
  },
  {
   "cell_type": "code",
   "execution_count": null,
   "metadata": {},
   "outputs": [],
   "source": [
    "with open(\"pickled_model.p\", \"wb\") as p:\n",
    "    pickle.dump(final_model, p)"
   ]
  },
  {
   "cell_type": "code",
   "execution_count": 16,
   "metadata": {},
   "outputs": [
    {
     "data": {
      "text/plain": [
       "array([[-0.00583429, -5.14691913]])"
      ]
     },
     "execution_count": 16,
     "metadata": {},
     "output_type": "execute_result"
    }
   ],
   "source": [
    "final_model.predict_log_proba(['Knickerbocker'])"
   ]
  },
  {
   "cell_type": "code",
   "execution_count": null,
   "metadata": {},
   "outputs": [],
   "source": [
    "?CountVectorizer"
   ]
  },
  {
   "cell_type": "markdown",
   "metadata": {},
   "source": [
    "Okay, so now I have a model. Now I need to put it in a Streamlit app that can receive input from the user and return a response of some sort."
   ]
  }
 ],
 "metadata": {
  "interpreter": {
   "hash": "6524d49d688450fc3d47611e48c8230f50bdaae02d55d1a5f70db79bfcaf4363"
  },
  "kernelspec": {
   "display_name": "Python 3",
   "language": "python",
   "name": "python3"
  },
  "language_info": {
   "codemirror_mode": {
    "name": "ipython",
    "version": 3
   },
   "file_extension": ".py",
   "mimetype": "text/x-python",
   "name": "python",
   "nbconvert_exporter": "python",
   "pygments_lexer": "ipython3",
   "version": "3.8.8"
  }
 },
 "nbformat": 4,
 "nbformat_minor": 4
}
